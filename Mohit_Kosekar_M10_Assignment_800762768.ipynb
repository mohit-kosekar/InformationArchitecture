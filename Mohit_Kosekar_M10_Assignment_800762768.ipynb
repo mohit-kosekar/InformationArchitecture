{
 "cells": [
  {
   "cell_type": "code",
   "execution_count": 1,
   "id": "e0022a08-7e81-4e80-8300-a9480b54c1bf",
   "metadata": {},
   "outputs": [
    {
     "name": "stderr",
     "output_type": "stream",
     "text": [
      "/var/folders/wt/93lbgcg95kd4fd7p6x3w9xgr0000gn/T/ipykernel_65964/859661688.py:2: DeprecationWarning: \n",
      "Pyarrow will become a required dependency of pandas in the next major release of pandas (pandas 3.0),\n",
      "(to allow more performant data types, such as the Arrow string type, and better interoperability with other libraries)\n",
      "but was not found to be installed on your system.\n",
      "If this would cause problems for you,\n",
      "please provide us feedback at https://github.com/pandas-dev/pandas/issues/54466\n",
      "        \n",
      "  import pandas as pd\n"
     ]
    }
   ],
   "source": [
    "import selenium\n",
    "import pandas as pd\n",
    "import time\n",
    "from time import sleep\n",
    "from selenium import webdriver\n",
    "from selenium.webdriver.common.by import By\n",
    "from selenium.webdriver.chrome.service import Service\n",
    "from webdriver_manager.chrome import ChromeDriverManager\n",
    "\n",
    "# Initialize the Chrome webdriver\n",
    "s = Service(ChromeDriverManager().install())\n",
    "browser = webdriver.Chrome(service=s)\n",
    "\n",
    "# Enter the URL\n",
    "browser.get(\"https://www.charitiesnys.com/RegistrySearch/search_charities.jsp\")\n",
    "\n",
    "# Identify the EIN input element and send keys\n",
    "ein_input = browser.find_element(\n",
    "    By.XPATH, '//*[@id=\"header\"]/div[2]/div/table/tbody/tr/td[2]/div/div/font/font/font/font/font/font/table/tbody/tr[4]/td/form/table/tbody/tr[2]/td[2]/input[1]',\n",
    ")\n",
    "ein_input.send_keys(\"0\")\n",
    "\n",
    "# Click the search button\n",
    "search_button = browser.find_element(\n",
    "    By.XPATH, '//*[@id=\"header\"]/div[2]/div/table/tbody/tr/td[2]/div/div/font/font/font/font/font/font/table/tbody/tr[4]/td/form/table/tbody/tr[10]/td/input[1]',\n",
    ")\n",
    "search_button.click()\n",
    "\n",
    "# Allow time for the page to load\n",
    "time.sleep(4)\n",
    "\n",
    "# Identify the table to scrape\n",
    "table = browser.find_element(By.CSS_SELECTOR, \"table.Bordered\")\n",
    "\n",
    "# Create an empty list to store data\n",
    "data = []\n",
    "\n",
    "# Loop through each row in the table\n",
    "for i in range(1, 6):\n",
    "    page = browser.find_element(\n",
    "        By.XPATH, \"/html/body/div[2]/div/table/tbody/tr/td[3]/div/div/span[2]/a[\" + str(i) + \"]\",\n",
    "    )\n",
    "    for row in table.find_elements(By.CSS_SELECTOR, \"tr\"):\n",
    "        cols = [cell.text for cell in row.find_elements(By.CSS_SELECTOR, \"td\")]\n",
    "        data.append(cols)\n",
    "\n",
    "# Update the column names\n",
    "column_names = [\"Organization Name\",\n",
    "                \"NY Reg #\",\n",
    "                \"EIN\",\n",
    "                \"Registrant Type\",\n",
    "                \"City\",\n",
    "                \"State\"]\n",
    "\n",
    "# Create DataFrame\n",
    "df = pd.DataFrame(data, columns=column_names)\n",
    "# converting data frame to csv and saving it locally\n",
    "df.to_csv(\"my_charities_data.csv\", index=False)"
   ]
  },
  {
   "cell_type": "code",
   "execution_count": 3,
   "id": "f062ae6f-b14d-4ddd-b02e-e778e83e735f",
   "metadata": {},
   "outputs": [
    {
     "name": "stdout",
     "output_type": "stream",
     "text": [
      "Bucket 'my-m10-webscrap-charities-bucket' created successfully in region 'us-east-1'.\n"
     ]
    }
   ],
   "source": [
    "import boto3\n",
    "# Create a S3 client using the default credential provider chain\n",
    "s3 = boto3.client(\"s3\")\n",
    "\n",
    "# Define bucket name\n",
    "bucket_name = \"my-m10-webscrap-charities-bucket\"\n",
    "region_name = \"us-east-1\"  # Specify the desired region\n",
    "\n",
    "try:\n",
    "    # Create the bucket without specifying the location constraint\n",
    "    response = s3.create_bucket(Bucket=bucket_name)\n",
    "    print(f\"Bucket '{bucket_name}' created successfully in region '{region_name}'.\")\n",
    "except Exception as e:\n",
    "    print(f\"Failed to create bucket: {e}\")"
   ]
  },
  {
   "cell_type": "code",
   "execution_count": 4,
   "id": "aeb979e5-9411-4fa1-b359-e1eb02df9b3a",
   "metadata": {},
   "outputs": [
    {
     "name": "stdout",
     "output_type": "stream",
     "text": [
      "File 'my_charities_data.csv' uploaded successfully to 'my-m10-webscrap-charities-bucket' as 'charities_bureau_scrape_20240415130036.csv'.\n"
     ]
    }
   ],
   "source": [
    "import time\n",
    "\n",
    "# File to upload\n",
    "file_path = \"my_charities_data.csv\"\n",
    "\n",
    "# Generate timestamp\n",
    "timestamp = time.strftime(\"%Y%m%d%H%M%S\")\n",
    "\n",
    "# Destination key with timestamp\n",
    "destination_key = f\"charities_bureau_scrape_{timestamp}.csv\"  # Updated filename with timestamp\n",
    "\n",
    "try:\n",
    "    # Upload the file to the S3 bucket\n",
    "    response = s3.upload_file(file_path, bucket_name, destination_key)\n",
    "    print(\n",
    "        f\"File '{file_path}' uploaded successfully to '{bucket_name}' as '{destination_key}'.\"\n",
    "    )\n",
    "except Exception as e:\n",
    "    print(f\"Failed to upload file: {e}\")"
   ]
  },
  {
   "cell_type": "code",
   "execution_count": null,
   "id": "f0238294-e87f-4d76-9bfa-9ad012102a60",
   "metadata": {},
   "outputs": [],
   "source": []
  }
 ],
 "metadata": {
  "kernelspec": {
   "display_name": "Python 3 (ipykernel)",
   "language": "python",
   "name": "python3"
  },
  "language_info": {
   "codemirror_mode": {
    "name": "ipython",
    "version": 3
   },
   "file_extension": ".py",
   "mimetype": "text/x-python",
   "name": "python",
   "nbconvert_exporter": "python",
   "pygments_lexer": "ipython3",
   "version": "3.12.1"
  }
 },
 "nbformat": 4,
 "nbformat_minor": 5
}
